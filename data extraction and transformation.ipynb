{
 "cells": [
  {
   "cell_type": "markdown",
   "metadata": {},
   "source": [
    "# Introduction"
   ]
  },
  {
   "cell_type": "markdown",
   "metadata": {},
   "source": [
    "This notebook contains all the codes used to extract data from the Singapore Department of Statistics via the use of API"
   ]
  },
  {
   "cell_type": "code",
   "execution_count": 14,
   "metadata": {
    "tags": []
   },
   "outputs": [],
   "source": [
    "import pandas as pd, requests as r\n",
    "from pandas.io.json import json_normalize\n",
    "\n",
    "import json, urllib, os"
   ]
  },
  {
   "cell_type": "markdown",
   "metadata": {},
   "source": [
    " # SG Fertility Rate"
   ]
  },
  {
   "cell_type": "code",
   "execution_count": 13,
   "metadata": {},
   "outputs": [],
   "source": [
    "os.chdir(r'C:\\Users\\tanzh\\Documents\\Kaggle\\datasets\\sg fertility rate')\n",
    "\n",
    "req = urllib.request.urlopen(\"https://www.tablebuilder.singstat.gov.sg/publicfacing/api/json/title/13273.json\").read()\n",
    "data = json.loads(req)"
   ]
  },
  {
   "cell_type": "code",
   "execution_count": 4,
   "metadata": {},
   "outputs": [
    {
     "output_type": "execute_result",
     "data": {
      "text/plain": "                                             Level1b  \\\n0  [{'year': '1960', 'level_1': 'Crude Birth Rate...   \n\n                                             Level1a  \\\n0  [{'year': '1960', 'level_1': 'Total Fertility ...   \n\n                                             Level1c  \\\n0  [{'year': '1960', 'level_1': 'Total Live-birth...   \n\n                                             Level2a  \\\n0  [{'year': '1960', 'level_1': 'Total Fertility ...   \n\n                                             Level2b  Note  \\\n0  [{'year': '1960', 'level_1': 'Total Fertility ...  None   \n\n                                   VariableFootNotes  Unit  \\\n0  [TOTAL FERTILITY RATE - Data prior to 1980 per...  None   \n\n                                          Datesource             GeneratedBy  \\\n0  SINGAPORE DEPARTMENT OF STATISTICS, IMMIGRATIO...  SingStat Table Builder   \n\n  DateGenerated                Contact  \n0    30/08/2020  info@singstat.gov.sg   ",
      "text/html": "<div>\n<style scoped>\n    .dataframe tbody tr th:only-of-type {\n        vertical-align: middle;\n    }\n\n    .dataframe tbody tr th {\n        vertical-align: top;\n    }\n\n    .dataframe thead th {\n        text-align: right;\n    }\n</style>\n<table border=\"1\" class=\"dataframe\">\n  <thead>\n    <tr style=\"text-align: right;\">\n      <th></th>\n      <th>Level1b</th>\n      <th>Level1a</th>\n      <th>Level1c</th>\n      <th>Level2a</th>\n      <th>Level2b</th>\n      <th>Note</th>\n      <th>VariableFootNotes</th>\n      <th>Unit</th>\n      <th>Datesource</th>\n      <th>GeneratedBy</th>\n      <th>DateGenerated</th>\n      <th>Contact</th>\n    </tr>\n  </thead>\n  <tbody>\n    <tr>\n      <td>0</td>\n      <td>[{'year': '1960', 'level_1': 'Crude Birth Rate...</td>\n      <td>[{'year': '1960', 'level_1': 'Total Fertility ...</td>\n      <td>[{'year': '1960', 'level_1': 'Total Live-birth...</td>\n      <td>[{'year': '1960', 'level_1': 'Total Fertility ...</td>\n      <td>[{'year': '1960', 'level_1': 'Total Fertility ...</td>\n      <td>None</td>\n      <td>[TOTAL FERTILITY RATE - Data prior to 1980 per...</td>\n      <td>None</td>\n      <td>SINGAPORE DEPARTMENT OF STATISTICS, IMMIGRATIO...</td>\n      <td>SingStat Table Builder</td>\n      <td>30/08/2020</td>\n      <td>info@singstat.gov.sg</td>\n    </tr>\n  </tbody>\n</table>\n</div>"
     },
     "metadata": {},
     "execution_count": 4
    }
   ],
   "source": [
    "json_normalize(data)"
   ]
  },
  {
   "cell_type": "code",
   "execution_count": 35,
   "metadata": {},
   "outputs": [],
   "source": [
    "output = json_normalize(data, 'Level2b')\n",
    "output.to_csv(\"total_fertility_rate_by_race.csv\", index=False)"
   ]
  },
  {
   "cell_type": "code",
   "execution_count": 36,
   "metadata": {},
   "outputs": [],
   "source": [
    "output = json_normalize(data, 'Level2a')\n",
    "output.to_csv('total_fertility_rate_by_age.csv', index=False)"
   ]
  },
  {
   "cell_type": "markdown",
   "metadata": {},
   "source": [
    "# SG Money Supply "
   ]
  },
  {
   "cell_type": "code",
   "execution_count": 22,
   "metadata": {},
   "outputs": [],
   "source": [
    "os.chdir(r'C:\\Users\\tanzh\\Documents\\Kaggle\\datasets\\sg money supply')\n",
    "\n",
    "req = r.get('https://www.tablebuilder.singstat.gov.sg/publicfacing/api/json/title/15238.json')\n",
    "sg_ms_data_json = req.json()"
   ]
  },
  {
   "cell_type": "code",
   "execution_count": 23,
   "metadata": {},
   "outputs": [
    {
     "output_type": "execute_result",
     "data": {
      "text/plain": "                                              Level1  \\\n0  [{'month': '1991-01', 'level_1': 'M3', 'value'...   \n\n                                              Level2  \\\n0  [{'month': '1991-01', 'level_1': 'M3', 'level_...   \n\n                                              Level3  \\\n0  [{'month': '1991-01', 'level_1': 'M3', 'level_...   \n\n                                              Level4  \\\n0  [{'month': '1991-01', 'level_1': 'M3', 'level_...   \n\n                                                Note  \\\n0  \"May 1987, money supply was inflated by about ...   \n\n                                   VariableFootNotes             Unit  \\\n0  [M3 - The M3 series has been revised to includ...  Million Dollars   \n\n                        Datesource             GeneratedBy DateGenerated  \\\n0  MONETARY AUTHORITY OF SINGAPORE  SingStat Table Builder    30/08/2020   \n\n                 Contact  \n0  info@singstat.gov.sg   ",
      "text/html": "<div>\n<style scoped>\n    .dataframe tbody tr th:only-of-type {\n        vertical-align: middle;\n    }\n\n    .dataframe tbody tr th {\n        vertical-align: top;\n    }\n\n    .dataframe thead th {\n        text-align: right;\n    }\n</style>\n<table border=\"1\" class=\"dataframe\">\n  <thead>\n    <tr style=\"text-align: right;\">\n      <th></th>\n      <th>Level1</th>\n      <th>Level2</th>\n      <th>Level3</th>\n      <th>Level4</th>\n      <th>Note</th>\n      <th>VariableFootNotes</th>\n      <th>Unit</th>\n      <th>Datesource</th>\n      <th>GeneratedBy</th>\n      <th>DateGenerated</th>\n      <th>Contact</th>\n    </tr>\n  </thead>\n  <tbody>\n    <tr>\n      <td>0</td>\n      <td>[{'month': '1991-01', 'level_1': 'M3', 'value'...</td>\n      <td>[{'month': '1991-01', 'level_1': 'M3', 'level_...</td>\n      <td>[{'month': '1991-01', 'level_1': 'M3', 'level_...</td>\n      <td>[{'month': '1991-01', 'level_1': 'M3', 'level_...</td>\n      <td>\"May 1987, money supply was inflated by about ...</td>\n      <td>[M3 - The M3 series has been revised to includ...</td>\n      <td>Million Dollars</td>\n      <td>MONETARY AUTHORITY OF SINGAPORE</td>\n      <td>SingStat Table Builder</td>\n      <td>30/08/2020</td>\n      <td>info@singstat.gov.sg</td>\n    </tr>\n  </tbody>\n</table>\n</div>"
     },
     "metadata": {},
     "execution_count": 23
    }
   ],
   "source": [
    "json_normalize(sg_ms_data_json)"
   ]
  },
  {
   "cell_type": "code",
   "execution_count": 24,
   "metadata": {},
   "outputs": [],
   "source": [
    "sg_money_supply = json_normalize(sg_ms_data_json, 'Level4')\n",
    "sg_money_supply.to_csv('sg_monthly_money_supply.csv', index=False)"
   ]
  },
  {
   "cell_type": "code",
   "execution_count": null,
   "metadata": {},
   "outputs": [],
   "source": []
  },
  {
   "cell_type": "code",
   "execution_count": null,
   "metadata": {},
   "outputs": [],
   "source": []
  },
  {
   "cell_type": "code",
   "execution_count": null,
   "metadata": {},
   "outputs": [],
   "source": []
  },
  {
   "cell_type": "code",
   "execution_count": null,
   "metadata": {},
   "outputs": [],
   "source": []
  },
  {
   "cell_type": "code",
   "execution_count": null,
   "metadata": {},
   "outputs": [],
   "source": []
  },
  {
   "cell_type": "code",
   "execution_count": null,
   "metadata": {},
   "outputs": [],
   "source": []
  }
 ],
 "metadata": {
  "kernelspec": {
   "display_name": "Python 3.7.4 64-bit ('base': conda)",
   "language": "python",
   "name": "python37464bitbaseconda6db2893f0e1b4b6ea66d23044bec9473"
  },
  "language_info": {
   "codemirror_mode": {
    "name": "ipython",
    "version": 3
   },
   "file_extension": ".py",
   "mimetype": "text/x-python",
   "name": "python",
   "nbconvert_exporter": "python",
   "pygments_lexer": "ipython3",
   "version": "3.7.4-final"
  }
 },
 "nbformat": 4,
 "nbformat_minor": 2
}