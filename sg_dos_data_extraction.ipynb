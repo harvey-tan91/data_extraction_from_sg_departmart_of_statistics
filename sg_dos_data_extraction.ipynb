{
 "cells": [
  {
   "cell_type": "markdown",
   "metadata": {},
   "source": [
    "# Introduction"
   ]
  },
  {
   "cell_type": "markdown",
   "metadata": {},
   "source": [
    "This notebook contains all the codes used to extract data from the Singapore Department of Statistics via the use of API"
   ]
  },
  {
   "cell_type": "code",
   "execution_count": 1,
   "metadata": {
    "tags": []
   },
   "outputs": [],
   "source": [
    "import os\n",
    "import pandas as pd\n",
    "import requests as r"
   ]
  },
  {
   "cell_type": "markdown",
   "metadata": {},
   "source": [
    " # SG Fertility Rate"
   ]
  },
  {
   "cell_type": "code",
   "execution_count": 2,
   "metadata": {},
   "outputs": [],
   "source": [
    "os.chdir(r'C:\\Users\\tanzh\\Documents\\Kaggle\\datasets\\sg fertility rate')\n",
    "data = r.get(r'https://www.tablebuilder.singstat.gov.sg/publicfacing/api/json/title/13273.json').json()"
   ]
  },
  {
   "cell_type": "code",
   "execution_count": 3,
   "metadata": {},
   "outputs": [
    {
     "output_type": "execute_result",
     "data": {
      "text/plain": [
       "                                             Level1b  \\\n",
       "0  [{'year': '1960', 'level_1': 'Crude Birth Rate...   \n",
       "\n",
       "                                             Level1a  \\\n",
       "0  [{'year': '1960', 'level_1': 'Total Fertility ...   \n",
       "\n",
       "                                             Level1c  \\\n",
       "0  [{'year': '1960', 'level_1': 'Total Live-birth...   \n",
       "\n",
       "                                             Level2a  \\\n",
       "0  [{'year': '1960', 'level_1': 'Total Fertility ...   \n",
       "\n",
       "                                             Level2b  \\\n",
       "0  [{'year': '1960', 'level_1': 'Total Fertility ...   \n",
       "\n",
       "                                                Note  \\\n",
       "0  \"For more information, please refer to the 'Po...   \n",
       "\n",
       "                                   VariableFootNotes  Unit  \\\n",
       "0  [TOTAL FERTILITY RATE - Data prior to 1980 per...  None   \n",
       "\n",
       "                                          Datesource             GeneratedBy  \\\n",
       "0  SINGAPORE DEPARTMENT OF STATISTICS, IMMIGRATIO...  SingStat Table Builder   \n",
       "\n",
       "  DataLastUpdated DateGenerated                Contact  \n",
       "0      10/06/2020    20/12/2020  info@singstat.gov.sg   "
      ],
      "text/html": "<div>\n<style scoped>\n    .dataframe tbody tr th:only-of-type {\n        vertical-align: middle;\n    }\n\n    .dataframe tbody tr th {\n        vertical-align: top;\n    }\n\n    .dataframe thead th {\n        text-align: right;\n    }\n</style>\n<table border=\"1\" class=\"dataframe\">\n  <thead>\n    <tr style=\"text-align: right;\">\n      <th></th>\n      <th>Level1b</th>\n      <th>Level1a</th>\n      <th>Level1c</th>\n      <th>Level2a</th>\n      <th>Level2b</th>\n      <th>Note</th>\n      <th>VariableFootNotes</th>\n      <th>Unit</th>\n      <th>Datesource</th>\n      <th>GeneratedBy</th>\n      <th>DataLastUpdated</th>\n      <th>DateGenerated</th>\n      <th>Contact</th>\n    </tr>\n  </thead>\n  <tbody>\n    <tr>\n      <th>0</th>\n      <td>[{'year': '1960', 'level_1': 'Crude Birth Rate...</td>\n      <td>[{'year': '1960', 'level_1': 'Total Fertility ...</td>\n      <td>[{'year': '1960', 'level_1': 'Total Live-birth...</td>\n      <td>[{'year': '1960', 'level_1': 'Total Fertility ...</td>\n      <td>[{'year': '1960', 'level_1': 'Total Fertility ...</td>\n      <td>\"For more information, please refer to the 'Po...</td>\n      <td>[TOTAL FERTILITY RATE - Data prior to 1980 per...</td>\n      <td>None</td>\n      <td>SINGAPORE DEPARTMENT OF STATISTICS, IMMIGRATIO...</td>\n      <td>SingStat Table Builder</td>\n      <td>10/06/2020</td>\n      <td>20/12/2020</td>\n      <td>info@singstat.gov.sg</td>\n    </tr>\n  </tbody>\n</table>\n</div>"
     },
     "metadata": {},
     "execution_count": 3
    }
   ],
   "source": [
    "pd.json_normalize(data)"
   ]
  },
  {
   "cell_type": "code",
   "execution_count": 4,
   "metadata": {},
   "outputs": [],
   "source": [
    "output = pd.json_normalize(data, 'Level2b')\n",
    "output.to_csv(\"total_fertility_rate_by_race.csv\", index=False)"
   ]
  },
  {
   "cell_type": "code",
   "execution_count": 5,
   "metadata": {},
   "outputs": [],
   "source": [
    "output = pd.json_normalize(data, 'Level2a')\n",
    "output.to_csv('total_fertility_rate_by_age.csv', index=False)"
   ]
  },
  {
   "cell_type": "markdown",
   "metadata": {},
   "source": [
    "# SG Money Supply "
   ]
  },
  {
   "cell_type": "code",
   "execution_count": 6,
   "metadata": {},
   "outputs": [],
   "source": [
    "os.chdir(r'C:\\Users\\tanzh\\Documents\\Kaggle\\datasets\\sg money supply')\n",
    "sg_ms_data_json = r.get('https://www.tablebuilder.singstat.gov.sg/publicfacing/api/json/title/15238.json').json()"
   ]
  },
  {
   "cell_type": "code",
   "execution_count": 7,
   "metadata": {},
   "outputs": [
    {
     "output_type": "execute_result",
     "data": {
      "text/plain": [
       "                                              Level1  \\\n",
       "0  [{'month': '1991-01', 'level_1': 'M3', 'value'...   \n",
       "\n",
       "                                              Level2  \\\n",
       "0  [{'month': '1991-01', 'level_1': 'M3', 'level_...   \n",
       "\n",
       "                                              Level3  \\\n",
       "0  [{'month': '1991-01', 'level_1': 'M3', 'level_...   \n",
       "\n",
       "                                              Level4  \\\n",
       "0  [{'month': '1991-01', 'level_1': 'M3', 'level_...   \n",
       "\n",
       "                                                Note  \\\n",
       "0  \"May 1987, money supply was inflated by about ...   \n",
       "\n",
       "                                   VariableFootNotes             Unit  \\\n",
       "0  [M3 - The M3 series has been revised to includ...  Million Dollars   \n",
       "\n",
       "                        Datesource             GeneratedBy DataLastUpdated  \\\n",
       "0  MONETARY AUTHORITY OF SINGAPORE  SingStat Table Builder      30/11/2020   \n",
       "\n",
       "  DateGenerated                Contact  \n",
       "0    20/12/2020  info@singstat.gov.sg   "
      ],
      "text/html": "<div>\n<style scoped>\n    .dataframe tbody tr th:only-of-type {\n        vertical-align: middle;\n    }\n\n    .dataframe tbody tr th {\n        vertical-align: top;\n    }\n\n    .dataframe thead th {\n        text-align: right;\n    }\n</style>\n<table border=\"1\" class=\"dataframe\">\n  <thead>\n    <tr style=\"text-align: right;\">\n      <th></th>\n      <th>Level1</th>\n      <th>Level2</th>\n      <th>Level3</th>\n      <th>Level4</th>\n      <th>Note</th>\n      <th>VariableFootNotes</th>\n      <th>Unit</th>\n      <th>Datesource</th>\n      <th>GeneratedBy</th>\n      <th>DataLastUpdated</th>\n      <th>DateGenerated</th>\n      <th>Contact</th>\n    </tr>\n  </thead>\n  <tbody>\n    <tr>\n      <th>0</th>\n      <td>[{'month': '1991-01', 'level_1': 'M3', 'value'...</td>\n      <td>[{'month': '1991-01', 'level_1': 'M3', 'level_...</td>\n      <td>[{'month': '1991-01', 'level_1': 'M3', 'level_...</td>\n      <td>[{'month': '1991-01', 'level_1': 'M3', 'level_...</td>\n      <td>\"May 1987, money supply was inflated by about ...</td>\n      <td>[M3 - The M3 series has been revised to includ...</td>\n      <td>Million Dollars</td>\n      <td>MONETARY AUTHORITY OF SINGAPORE</td>\n      <td>SingStat Table Builder</td>\n      <td>30/11/2020</td>\n      <td>20/12/2020</td>\n      <td>info@singstat.gov.sg</td>\n    </tr>\n  </tbody>\n</table>\n</div>"
     },
     "metadata": {},
     "execution_count": 7
    }
   ],
   "source": [
    "pd.json_normalize(sg_ms_data_json)"
   ]
  },
  {
   "cell_type": "code",
   "execution_count": 8,
   "metadata": {},
   "outputs": [],
   "source": [
    "sg_money_supply = pd.json_normalize(sg_ms_data_json, 'Level4')\n",
    "sg_money_supply.to_csv('sg_monthly_money_supply.csv', index=False)"
   ]
  },
  {
   "source": [
    "# SG Exchange Rate"
   ],
   "cell_type": "markdown",
   "metadata": {}
  },
  {
   "cell_type": "code",
   "execution_count": 9,
   "metadata": {},
   "outputs": [],
   "source": [
    "os.chdir(r'C:\\Users\\tanzh\\Documents\\Kaggle\\datasets\\sg_ex_rate')\n",
    "sg_ex_rate = r.get('https://www.tablebuilder.singstat.gov.sg/publicfacing/api/json/title/15313.json').json()"
   ]
  },
  {
   "cell_type": "code",
   "execution_count": 10,
   "metadata": {},
   "outputs": [
    {
     "output_type": "execute_result",
     "data": {
      "text/plain": [
       "                                             Level1n  \\\n",
       "0  [{'month': '1988-01', 'level_1': 'Indian Rupee...   \n",
       "\n",
       "                                             Level1m  \\\n",
       "0  [{'month': '1988-01', 'level_1': 'Renminbi', '...   \n",
       "\n",
       "                                             Level1o  \\\n",
       "0  [{'month': '1988-01', 'level_1': 'Philippine P...   \n",
       "\n",
       "                                             Level1b  \\\n",
       "0  [{'month': '1988-01', 'level_1': 'Sterling Pou...   \n",
       "\n",
       "                                             Level1a  \\\n",
       "0  [{'month': '1988-01', 'level_1': 'US Dollar', ...   \n",
       "\n",
       "                                             Level1d  \\\n",
       "0  [{'month': '1988-01', 'level_1': 'Japanese Yen...   \n",
       "\n",
       "                                             Level1c  \\\n",
       "0  [{'month': '1988-01', 'level_1': 'Swiss Franc'...   \n",
       "\n",
       "                                             Level1f  \\\n",
       "0  [{'month': '1988-01', 'level_1': 'Hong Kong Do...   \n",
       "\n",
       "                                             Level1e  \\\n",
       "0  [{'month': '1988-01', 'level_1': 'Malaysian Ri...   \n",
       "\n",
       "                                             Level1h  ...  \\\n",
       "0  [{'month': '1988-01', 'level_1': 'Korean Won',...  ...   \n",
       "\n",
       "                                             Level1l  \\\n",
       "0  [{'month': '1988-01', 'level_1': 'Thai Baht', ...   \n",
       "\n",
       "                                             Level1k  \\\n",
       "0  [{'month': '1988-01', 'level_1': 'Indonesian R...   \n",
       "\n",
       "                                      Note VariableFootNotes  Unit  \\\n",
       "0  Rates are average rates for the period.                []  None   \n",
       "\n",
       "                        Datesource             GeneratedBy DataLastUpdated  \\\n",
       "0  MONETARY AUTHORITY OF SINGAPORE  SingStat Table Builder      15/12/2020   \n",
       "\n",
       "  DateGenerated                Contact  \n",
       "0    20/12/2020  info@singstat.gov.sg   \n",
       "\n",
       "[1 rows x 23 columns]"
      ],
      "text/html": "<div>\n<style scoped>\n    .dataframe tbody tr th:only-of-type {\n        vertical-align: middle;\n    }\n\n    .dataframe tbody tr th {\n        vertical-align: top;\n    }\n\n    .dataframe thead th {\n        text-align: right;\n    }\n</style>\n<table border=\"1\" class=\"dataframe\">\n  <thead>\n    <tr style=\"text-align: right;\">\n      <th></th>\n      <th>Level1n</th>\n      <th>Level1m</th>\n      <th>Level1o</th>\n      <th>Level1b</th>\n      <th>Level1a</th>\n      <th>Level1d</th>\n      <th>Level1c</th>\n      <th>Level1f</th>\n      <th>Level1e</th>\n      <th>Level1h</th>\n      <th>...</th>\n      <th>Level1l</th>\n      <th>Level1k</th>\n      <th>Note</th>\n      <th>VariableFootNotes</th>\n      <th>Unit</th>\n      <th>Datesource</th>\n      <th>GeneratedBy</th>\n      <th>DataLastUpdated</th>\n      <th>DateGenerated</th>\n      <th>Contact</th>\n    </tr>\n  </thead>\n  <tbody>\n    <tr>\n      <th>0</th>\n      <td>[{'month': '1988-01', 'level_1': 'Indian Rupee...</td>\n      <td>[{'month': '1988-01', 'level_1': 'Renminbi', '...</td>\n      <td>[{'month': '1988-01', 'level_1': 'Philippine P...</td>\n      <td>[{'month': '1988-01', 'level_1': 'Sterling Pou...</td>\n      <td>[{'month': '1988-01', 'level_1': 'US Dollar', ...</td>\n      <td>[{'month': '1988-01', 'level_1': 'Japanese Yen...</td>\n      <td>[{'month': '1988-01', 'level_1': 'Swiss Franc'...</td>\n      <td>[{'month': '1988-01', 'level_1': 'Hong Kong Do...</td>\n      <td>[{'month': '1988-01', 'level_1': 'Malaysian Ri...</td>\n      <td>[{'month': '1988-01', 'level_1': 'Korean Won',...</td>\n      <td>...</td>\n      <td>[{'month': '1988-01', 'level_1': 'Thai Baht', ...</td>\n      <td>[{'month': '1988-01', 'level_1': 'Indonesian R...</td>\n      <td>Rates are average rates for the period.</td>\n      <td>[]</td>\n      <td>None</td>\n      <td>MONETARY AUTHORITY OF SINGAPORE</td>\n      <td>SingStat Table Builder</td>\n      <td>15/12/2020</td>\n      <td>20/12/2020</td>\n      <td>info@singstat.gov.sg</td>\n    </tr>\n  </tbody>\n</table>\n<p>1 rows × 23 columns</p>\n</div>"
     },
     "metadata": {},
     "execution_count": 10
    }
   ],
   "source": [
    "pd.json_normalize(sg_ex_rate)"
   ]
  },
  {
   "cell_type": "code",
   "execution_count": 11,
   "metadata": {},
   "outputs": [],
   "source": [
    "usd = pd.json_normalize(sg_ex_rate, 'Level1a')\n",
    "gbp = pd.json_normalize(sg_ex_rate, 'Level1b')\n",
    "myr = pd.json_normalize(sg_ex_rate, 'Level1e')\n",
    "thb = pd.json_normalize(sg_ex_rate, 'Level1l')"
   ]
  },
  {
   "cell_type": "code",
   "execution_count": 12,
   "metadata": {},
   "outputs": [
    {
     "output_type": "execute_result",
     "data": {
      "text/plain": [
       "       month    level_1   value                                 uom\n",
       "0    1988-01  US Dollar  2.0253      Singapore Dollar Per US Dollar\n",
       "1    1988-02  US Dollar  2.0173      Singapore Dollar Per US Dollar\n",
       "2    1988-03  US Dollar  2.0133      Singapore Dollar Per US Dollar\n",
       "3    1988-04  US Dollar  2.0037      Singapore Dollar Per US Dollar\n",
       "4    1988-05  US Dollar  2.0098      Singapore Dollar Per US Dollar\n",
       "..       ...        ...     ...                                 ...\n",
       "390  2020-07  Thai Baht  4.4187  Singapore Dollar Per 100 Thai Baht\n",
       "391  2020-08  Thai Baht  4.3878  Singapore Dollar Per 100 Thai Baht\n",
       "392  2020-09  Thai Baht  4.3548  Singapore Dollar Per 100 Thai Baht\n",
       "393  2020-10  Thai Baht  4.3471  Singapore Dollar Per 100 Thai Baht\n",
       "394  2020-11  Thai Baht  4.4219  Singapore Dollar Per 100 Thai Baht\n",
       "\n",
       "[1580 rows x 4 columns]"
      ],
      "text/html": "<div>\n<style scoped>\n    .dataframe tbody tr th:only-of-type {\n        vertical-align: middle;\n    }\n\n    .dataframe tbody tr th {\n        vertical-align: top;\n    }\n\n    .dataframe thead th {\n        text-align: right;\n    }\n</style>\n<table border=\"1\" class=\"dataframe\">\n  <thead>\n    <tr style=\"text-align: right;\">\n      <th></th>\n      <th>month</th>\n      <th>level_1</th>\n      <th>value</th>\n      <th>uom</th>\n    </tr>\n  </thead>\n  <tbody>\n    <tr>\n      <th>0</th>\n      <td>1988-01</td>\n      <td>US Dollar</td>\n      <td>2.0253</td>\n      <td>Singapore Dollar Per US Dollar</td>\n    </tr>\n    <tr>\n      <th>1</th>\n      <td>1988-02</td>\n      <td>US Dollar</td>\n      <td>2.0173</td>\n      <td>Singapore Dollar Per US Dollar</td>\n    </tr>\n    <tr>\n      <th>2</th>\n      <td>1988-03</td>\n      <td>US Dollar</td>\n      <td>2.0133</td>\n      <td>Singapore Dollar Per US Dollar</td>\n    </tr>\n    <tr>\n      <th>3</th>\n      <td>1988-04</td>\n      <td>US Dollar</td>\n      <td>2.0037</td>\n      <td>Singapore Dollar Per US Dollar</td>\n    </tr>\n    <tr>\n      <th>4</th>\n      <td>1988-05</td>\n      <td>US Dollar</td>\n      <td>2.0098</td>\n      <td>Singapore Dollar Per US Dollar</td>\n    </tr>\n    <tr>\n      <th>...</th>\n      <td>...</td>\n      <td>...</td>\n      <td>...</td>\n      <td>...</td>\n    </tr>\n    <tr>\n      <th>390</th>\n      <td>2020-07</td>\n      <td>Thai Baht</td>\n      <td>4.4187</td>\n      <td>Singapore Dollar Per 100 Thai Baht</td>\n    </tr>\n    <tr>\n      <th>391</th>\n      <td>2020-08</td>\n      <td>Thai Baht</td>\n      <td>4.3878</td>\n      <td>Singapore Dollar Per 100 Thai Baht</td>\n    </tr>\n    <tr>\n      <th>392</th>\n      <td>2020-09</td>\n      <td>Thai Baht</td>\n      <td>4.3548</td>\n      <td>Singapore Dollar Per 100 Thai Baht</td>\n    </tr>\n    <tr>\n      <th>393</th>\n      <td>2020-10</td>\n      <td>Thai Baht</td>\n      <td>4.3471</td>\n      <td>Singapore Dollar Per 100 Thai Baht</td>\n    </tr>\n    <tr>\n      <th>394</th>\n      <td>2020-11</td>\n      <td>Thai Baht</td>\n      <td>4.4219</td>\n      <td>Singapore Dollar Per 100 Thai Baht</td>\n    </tr>\n  </tbody>\n</table>\n<p>1580 rows × 4 columns</p>\n</div>"
     },
     "metadata": {},
     "execution_count": 12
    }
   ],
   "source": [
    "data = pd.concat([usd,gbp,myr,thb], axis=0)\n",
    "data"
   ]
  },
  {
   "cell_type": "code",
   "execution_count": 13,
   "metadata": {},
   "outputs": [
    {
     "output_type": "execute_result",
     "data": {
      "text/plain": [
       "       month        currency exchange_rate  \\\n",
       "375  2019-04       Thai Baht        4.2557   \n",
       "49   1992-02       Thai Baht            na   \n",
       "273  2010-10  Sterling Pound        2.0675   \n",
       "236  2007-09       US Dollar        1.5126   \n",
       "133  1999-02  Sterling Pound        2.7705   \n",
       "\n",
       "                             description  \n",
       "375   Singapore Dollar Per 100 Thai Baht  \n",
       "49    Singapore Dollar Per 100 Thai Baht  \n",
       "273  Singapore Dollar Per Pound Sterling  \n",
       "236       Singapore Dollar Per US Dollar  \n",
       "133  Singapore Dollar Per Pound Sterling  "
      ],
      "text/html": "<div>\n<style scoped>\n    .dataframe tbody tr th:only-of-type {\n        vertical-align: middle;\n    }\n\n    .dataframe tbody tr th {\n        vertical-align: top;\n    }\n\n    .dataframe thead th {\n        text-align: right;\n    }\n</style>\n<table border=\"1\" class=\"dataframe\">\n  <thead>\n    <tr style=\"text-align: right;\">\n      <th></th>\n      <th>month</th>\n      <th>currency</th>\n      <th>exchange_rate</th>\n      <th>description</th>\n    </tr>\n  </thead>\n  <tbody>\n    <tr>\n      <th>375</th>\n      <td>2019-04</td>\n      <td>Thai Baht</td>\n      <td>4.2557</td>\n      <td>Singapore Dollar Per 100 Thai Baht</td>\n    </tr>\n    <tr>\n      <th>49</th>\n      <td>1992-02</td>\n      <td>Thai Baht</td>\n      <td>na</td>\n      <td>Singapore Dollar Per 100 Thai Baht</td>\n    </tr>\n    <tr>\n      <th>273</th>\n      <td>2010-10</td>\n      <td>Sterling Pound</td>\n      <td>2.0675</td>\n      <td>Singapore Dollar Per Pound Sterling</td>\n    </tr>\n    <tr>\n      <th>236</th>\n      <td>2007-09</td>\n      <td>US Dollar</td>\n      <td>1.5126</td>\n      <td>Singapore Dollar Per US Dollar</td>\n    </tr>\n    <tr>\n      <th>133</th>\n      <td>1999-02</td>\n      <td>Sterling Pound</td>\n      <td>2.7705</td>\n      <td>Singapore Dollar Per Pound Sterling</td>\n    </tr>\n  </tbody>\n</table>\n</div>"
     },
     "metadata": {},
     "execution_count": 13
    }
   ],
   "source": [
    "data.rename(columns={'level_1':'currency', 'value':'exchange_rate','uom':'description'}, inplace=True)\n",
    "data.sample(5)"
   ]
  },
  {
   "cell_type": "code",
   "execution_count": 14,
   "metadata": {},
   "outputs": [],
   "source": [
    "data.to_csv('sg_exchange_rate.csv', index=False)"
   ]
  }
 ],
 "metadata": {
  "kernelspec": {
   "display_name": "Python 3.7.4 64-bit ('base': conda)",
   "language": "python",
   "name": "python37464bitbaseconda6db2893f0e1b4b6ea66d23044bec9473"
  },
  "language_info": {
   "codemirror_mode": {
    "name": "ipython",
    "version": 3
   },
   "file_extension": ".py",
   "mimetype": "text/x-python",
   "name": "python",
   "nbconvert_exporter": "python",
   "pygments_lexer": "ipython3",
   "version": "3.8.3-final"
  }
 },
 "nbformat": 4,
 "nbformat_minor": 2
}